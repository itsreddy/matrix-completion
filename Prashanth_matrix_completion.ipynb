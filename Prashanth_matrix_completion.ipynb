{
 "cells": [
  {
   "cell_type": "code",
   "execution_count": 0,
   "metadata": {
    "colab": {},
    "colab_type": "code",
    "id": "afg_7UFJEiZY"
   },
   "outputs": [],
   "source": [
    "import pandas as pd \n",
    "import matplotlib.pyplot as plt \n",
    "import io, csv, os\n",
    "import numpy as np\n",
    "from collections import defaultdict\n",
    "import pickle\n",
    "import scipy\n",
    "import sklearn.metrics\n",
    "from scipy.sparse.linalg import svds\n",
    "import math"
   ]
  },
  {
   "cell_type": "code",
   "execution_count": 0,
   "metadata": {
    "colab": {},
    "colab_type": "code",
    "id": "kPxp0vphkQns"
   },
   "outputs": [],
   "source": [
    "base_path = \"/content/drive/My Drive/Q3 Spring 20/ML/modeling/matrix-completion/\""
   ]
  },
  {
   "cell_type": "code",
   "execution_count": 0,
   "metadata": {
    "colab": {},
    "colab_type": "code",
    "id": "W9ylEcFVQ3fa"
   },
   "outputs": [],
   "source": [
    "os.makedirs(base_path + '/obj/', exist_ok=True)\n",
    "def save_obj(obj, name ):\n",
    "    with open( base_path + '/obj/'+ name + '.pkl', 'wb') as f:\n",
    "        pickle.dump(obj, f, pickle.HIGHEST_PROTOCOL)\n",
    "\n",
    "def load_obj(name ):\n",
    "    with open(base_path + '/obj/' + name + '.pkl', 'rb') as f:\n",
    "        return pickle.load(f)"
   ]
  },
  {
   "cell_type": "code",
   "execution_count": 0,
   "metadata": {
    "colab": {},
    "colab_type": "code",
    "id": "y73COd0SivLK"
   },
   "outputs": [],
   "source": [
    "raw_df = pd.read_csv( base_path + \"train.csv\")\n",
    "# raw_df.head(2)"
   ]
  },
  {
   "cell_type": "code",
   "execution_count": 0,
   "metadata": {
    "colab": {},
    "colab_type": "code",
    "id": "DT_12pcKUpcx"
   },
   "outputs": [],
   "source": [
    "from sklearn.utils import shuffle\n",
    "raw_df = shuffle(raw_df)\n",
    "raw_df = raw_df.reset_index(drop=True)"
   ]
  },
  {
   "cell_type": "code",
   "execution_count": 0,
   "metadata": {
    "colab": {},
    "colab_type": "code",
    "id": "mQLfaQqbHvtM"
   },
   "outputs": [],
   "source": [
    "# split_index1 = round(0.1 * raw_df.shape[0])\n",
    "split_index2 = round(0.1 * raw_df.shape[0])\n",
    "validate_df = raw_df[: split_index2]"
   ]
  },
  {
   "cell_type": "code",
   "execution_count": 8,
   "metadata": {
    "colab": {
     "base_uri": "https://localhost:8080/",
     "height": 35
    },
    "colab_type": "code",
    "id": "2D0-yP3T5gR7",
    "outputId": "ed3d2904-9ec4-4e6e-e0f0-f81243b91cb4"
   },
   "outputs": [
    {
     "name": "stdout",
     "output_type": "stream",
     "text": [
      "(100000, 4)\n"
     ]
    }
   ],
   "source": [
    "print(validate_df.shape) # train_df.shape"
   ]
  },
  {
   "cell_type": "code",
   "execution_count": 9,
   "metadata": {
    "colab": {
     "base_uri": "https://localhost:8080/",
     "height": 110
    },
    "colab_type": "code",
    "id": "DshUlAhJJAI_",
    "outputId": "9cf0558b-3a5d-478a-e5fc-d53a8a8eda70"
   },
   "outputs": [
    {
     "data": {
      "text/html": [
       "<div>\n",
       "<style scoped>\n",
       "    .dataframe tbody tr th:only-of-type {\n",
       "        vertical-align: middle;\n",
       "    }\n",
       "\n",
       "    .dataframe tbody tr th {\n",
       "        vertical-align: top;\n",
       "    }\n",
       "\n",
       "    .dataframe thead th {\n",
       "        text-align: right;\n",
       "    }\n",
       "</style>\n",
       "<table border=\"1\" class=\"dataframe\">\n",
       "  <thead>\n",
       "    <tr style=\"text-align: right;\">\n",
       "      <th></th>\n",
       "      <th>movie-id</th>\n",
       "      <th>customer-id</th>\n",
       "      <th>rating</th>\n",
       "      <th>date</th>\n",
       "    </tr>\n",
       "  </thead>\n",
       "  <tbody>\n",
       "    <tr>\n",
       "      <th>0</th>\n",
       "      <td>12470</td>\n",
       "      <td>26388</td>\n",
       "      <td>5</td>\n",
       "      <td>2005-08-16</td>\n",
       "    </tr>\n",
       "    <tr>\n",
       "      <th>1</th>\n",
       "      <td>9054</td>\n",
       "      <td>29008</td>\n",
       "      <td>3</td>\n",
       "      <td>2005-04-11</td>\n",
       "    </tr>\n",
       "  </tbody>\n",
       "</table>\n",
       "</div>"
      ],
      "text/plain": [
       "   movie-id  customer-id  rating        date\n",
       "0     12470        26388       5  2005-08-16\n",
       "1      9054        29008       3  2005-04-11"
      ]
     },
     "execution_count": 9,
     "metadata": {
      "tags": []
     },
     "output_type": "execute_result"
    }
   ],
   "source": [
    "val_df_original = validate_df.copy()\n",
    "# validate_df.head(2)"
   ]
  },
  {
   "cell_type": "code",
   "execution_count": 0,
   "metadata": {
    "colab": {},
    "colab_type": "code",
    "id": "2OjLBavFI4Sm"
   },
   "outputs": [],
   "source": [
    "validate_df['rating'].values[:] = 0\n",
    "validate_df.head(2)"
   ]
  },
  {
   "cell_type": "code",
   "execution_count": 0,
   "metadata": {
    "colab": {},
    "colab_type": "code",
    "id": "Tmfr7obUzTpu"
   },
   "outputs": [],
   "source": [
    "test_df = pd.read_csv( base_path + \"test.csv\")\n",
    "# test_df.head(2)"
   ]
  },
  {
   "cell_type": "code",
   "execution_count": 0,
   "metadata": {
    "colab": {},
    "colab_type": "code",
    "id": "GojSAJdOGfvj"
   },
   "outputs": [],
   "source": [
    "test_df['rating'].replace({\"?\": 0}, inplace=True)"
   ]
  },
  {
   "cell_type": "code",
   "execution_count": 0,
   "metadata": {
    "colab": {},
    "colab_type": "code",
    "id": "JEvM3u1T3-n4"
   },
   "outputs": [],
   "source": [
    "combined_df = raw_df"
   ]
  },
  {
   "cell_type": "code",
   "execution_count": 14,
   "metadata": {
    "colab": {
     "base_uri": "https://localhost:8080/",
     "height": 35
    },
    "colab_type": "code",
    "id": "_IGqZiqULCV0",
    "outputId": "a8ae4f72-b383-42c0-fee3-c09cd249557d"
   },
   "outputs": [
    {
     "name": "stdout",
     "output_type": "stream",
     "text": [
      "16142 5905\n"
     ]
    }
   ],
   "source": [
    "# construct a dict to map users, movies with row, column ids\n",
    "combined_customers = combined_df['customer-id']\n",
    "combined_cid_sorted = combined_customers.sort_values()\n",
    "combined_movies = combined_df['movie-id']\n",
    "combined_mid_sorted = combined_movies.sort_values()\n",
    "\n",
    "combined_cid = {}\n",
    "cursor = 0\n",
    "for val in combined_cid_sorted:\n",
    "    if val not in combined_cid:\n",
    "        combined_cid[val] = cursor\n",
    "        cursor += 1\n",
    "\n",
    "combined_mid = {}\n",
    "cursor = 0\n",
    "for val in combined_mid_sorted:\n",
    "    if val not in combined_mid:\n",
    "        combined_mid[val] = cursor\n",
    "        cursor += 1\n",
    "\n",
    "combined_movies_n = len(combined_mid)\n",
    "combined_cust_n = len(combined_cid)\n",
    "print(combined_movies_n, combined_cust_n)"
   ]
  },
  {
   "cell_type": "code",
   "execution_count": 15,
   "metadata": {
    "colab": {
     "base_uri": "https://localhost:8080/",
     "height": 35
    },
    "colab_type": "code",
    "id": "q-zH7Wxr-7P5",
    "outputId": "54036a84-ca99-4f6d-dd5a-06aab5592679"
   },
   "outputs": [
    {
     "data": {
      "text/plain": [
       "(5905, 16142)"
      ]
     },
     "execution_count": 15,
     "metadata": {
      "tags": []
     },
     "output_type": "execute_result"
    }
   ],
   "source": [
    "# Make movie-by-user matrix to hold ratings\n",
    "ratings = np.zeros((combined_cust_n, combined_movies_n))\n",
    "\n",
    "for i in range(len(combined_df)):\n",
    "    current = combined_df.iloc[i]\n",
    "    customer_idx = combined_cid.get(current[1])\n",
    "    movie_idx = combined_mid.get(current[0])\n",
    "    ratings[customer_idx, movie_idx] = current[2]\n",
    "\n",
    "ratings.shape"
   ]
  },
  {
   "cell_type": "code",
   "execution_count": 0,
   "metadata": {
    "colab": {},
    "colab_type": "code",
    "id": "X8uZvhv7GfCN"
   },
   "outputs": [],
   "source": [
    "save_obj(ratings, 'ratings_train_validate_fold')\n",
    "# ratings = load_obj('ratings_train_validate_fold2')"
   ]
  },
  {
   "cell_type": "code",
   "execution_count": 0,
   "metadata": {
    "colab": {},
    "colab_type": "code",
    "id": "xRY1srEhIQUl"
   },
   "outputs": [],
   "source": [
    "means = []\n",
    "f_ratings = ratings.copy()\n",
    "f_ratings_t = np.transpose(f_ratings)\n",
    "\n",
    "for i in range(f_ratings_t.shape[0]):\n",
    "    record = f_ratings_t[i]\n",
    "    nonzeros = record[np.nonzero(record)]\n",
    "    if len(nonzeros) > 0:\n",
    "        mean = np.mean(nonzeros)\n",
    "    else:\n",
    "        mean = 0\n",
    "#     mean = mean + (np.random.rand() / 2) - 0.5\n",
    "#     f_ratings_t[i] = np.where(record==0, mean, record) #type 2\n",
    "    \n",
    "    means.append(mean)\n",
    "    record[np.nonzero(record)] = record[np.nonzero(record)] - mean # type 3\n",
    "    f_ratings_t[i] = record\n",
    "\n",
    "    # print(len(record[np.nonzero(record)]), len(record1[np.nonzero(record1)]))\n",
    "f_ratings = np.transpose(f_ratings_t)"
   ]
  },
  {
   "cell_type": "code",
   "execution_count": 0,
   "metadata": {
    "colab": {},
    "colab_type": "code",
    "id": "vwPnvEW2Q1bX"
   },
   "outputs": [],
   "source": [
    "U1, sigma, Vt = svds(f_ratings, k = 25)"
   ]
  },
  {
   "cell_type": "code",
   "execution_count": 0,
   "metadata": {
    "colab": {},
    "colab_type": "code",
    "id": "CA8kZBNhQ1Yw"
   },
   "outputs": [],
   "source": [
    "sigma = np.diag(sigma)"
   ]
  },
  {
   "cell_type": "code",
   "execution_count": 0,
   "metadata": {
    "colab": {},
    "colab_type": "code",
    "id": "f_dxM_dPQ1XS"
   },
   "outputs": [],
   "source": [
    "predicted_ratings = np.dot(np.dot(U1, sigma), Vt) + np.array(means)"
   ]
  },
  {
   "cell_type": "code",
   "execution_count": 0,
   "metadata": {
    "colab": {},
    "colab_type": "code",
    "id": "3W6v_4F3Q1Kt"
   },
   "outputs": [],
   "source": [
    "# another fn for svd\n",
    "U, s, Vh = scipy.linalg.svd(f_ratings, full_matrices=False)"
   ]
  },
  {
   "cell_type": "code",
   "execution_count": 0,
   "metadata": {
    "colab": {},
    "colab_type": "code",
    "id": "acNVo86W9wa8"
   },
   "outputs": [],
   "source": [
    "k = 25\n",
    "temp1 = U [:, :k]\n",
    "temp2 = Vh [:k]\n",
    "temp3 = np.diag(s[:k])"
   ]
  },
  {
   "cell_type": "code",
   "execution_count": 99,
   "metadata": {
    "colab": {
     "base_uri": "https://localhost:8080/",
     "height": 35
    },
    "colab_type": "code",
    "id": "IK9SnQ_L_RNn",
    "outputId": "1a5e7623-e133-41d1-93dd-49ff628ca848"
   },
   "outputs": [
    {
     "name": "stdout",
     "output_type": "stream",
     "text": [
      "(5905, 25) (25, 16142)\n"
     ]
    }
   ],
   "source": [
    "print(temp1.shape, temp2.shape)"
   ]
  },
  {
   "cell_type": "code",
   "execution_count": 0,
   "metadata": {
    "colab": {},
    "colab_type": "code",
    "id": "eJr-GagVSkUz"
   },
   "outputs": [],
   "source": [
    "preds = np.matmul(np.matmul(temp1, temp3), temp2) # + np.array(means)"
   ]
  },
  {
   "cell_type": "code",
   "execution_count": 20,
   "metadata": {
    "colab": {
     "base_uri": "https://localhost:8080/",
     "height": 35
    },
    "colab_type": "code",
    "id": "den2QZT8CEsn",
    "outputId": "a8cd3d50-69ad-4ffc-e30d-4b140a4950df"
   },
   "outputs": [
    {
     "data": {
      "text/plain": [
       "(5905, 16142)"
      ]
     },
     "execution_count": 20,
     "metadata": {
      "tags": []
     },
     "output_type": "execute_result"
    }
   ],
   "source": [
    "preds.shape"
   ]
  },
  {
   "cell_type": "code",
   "execution_count": 0,
   "metadata": {
    "colab": {},
    "colab_type": "code",
    "id": "GwiL5UUB273Z"
   },
   "outputs": [],
   "source": [
    "val_df_original = test_df.copy()"
   ]
  },
  {
   "cell_type": "code",
   "execution_count": 0,
   "metadata": {
    "colab": {},
    "colab_type": "code",
    "id": "pWC9WYwjSkN_"
   },
   "outputs": [],
   "source": [
    "mean_pred = []\n",
    "gt = []\n",
    "for i in range(val_df_original.shape[0]):\n",
    "\n",
    "    temp = val_df_original.iloc[i]\n",
    "    cid = combined_cid.get(temp[1])\n",
    "    mid = combined_mid.get(temp[0])\n",
    "\n",
    "\n",
    "    if mid is not None:\n",
    "        if cid is not None:\n",
    "            p = predicted_ratings[cid][mid]\n",
    "        else:\n",
    "            movie_r = ratings[:, mid]\n",
    "            nonzeros = movie_r[np.nonzero(movie_r)]\n",
    "            rating_prediction = np.mean(nonzeros)\n",
    "    else:\n",
    "        if cid is not None:\n",
    "            movie_r = ratings[cid]\n",
    "            nonzeros = movie_r[np.nonzero(movie_r)]\n",
    "            rating_prediction = np.mean(nonzeros)\n",
    "        else:\n",
    "            rating_prediction = 3\n",
    "\n",
    "    if temp[2] == 0:\n",
    "        continue\n",
    "    gt.append(temp[2])\n",
    "  \n",
    "    if p > 5:\n",
    "        p = 5\n",
    "    if p <= 0.5:\n",
    "        p = 1\n",
    "\n",
    "    mean_pred.append(round(p))"
   ]
  },
  {
   "cell_type": "code",
   "execution_count": 128,
   "metadata": {
    "colab": {
     "base_uri": "https://localhost:8080/",
     "height": 35
    },
    "colab_type": "code",
    "id": "E_zQy_QQqNSn",
    "outputId": "6265807a-3bf8-4a6c-8baf-abf307c653cc"
   },
   "outputs": [
    {
     "data": {
      "text/plain": [
       "250000"
      ]
     },
     "execution_count": 128,
     "metadata": {
      "tags": []
     },
     "output_type": "execute_result"
    }
   ],
   "source": [
    "len(mean_pred)"
   ]
  },
  {
   "cell_type": "code",
   "execution_count": 0,
   "metadata": {
    "colab": {},
    "colab_type": "code",
    "id": "uxIpxJZ-rUgZ"
   },
   "outputs": [],
   "source": [
    "save_obj(mean_pred, 'pred_')"
   ]
  },
  {
   "cell_type": "code",
   "execution_count": 0,
   "metadata": {
    "colab": {},
    "colab_type": "code",
    "id": "QkbSIglSttDB"
   },
   "outputs": [],
   "source": [
    "np.savetxt( base_path + 'pred_', mean_pred)"
   ]
  },
  {
   "cell_type": "code",
   "execution_count": 106,
   "metadata": {
    "colab": {
     "base_uri": "https://localhost:8080/",
     "height": 35
    },
    "colab_type": "code",
    "id": "bbSTu_u7FR28",
    "outputId": "5f86cda0-a50a-48a3-eb30-d54b7d6a17a5",
    "scrolled": false
   },
   "outputs": [
    {
     "data": {
      "text/plain": [
       "1.08234"
      ]
     },
     "execution_count": 106,
     "metadata": {
      "tags": []
     },
     "output_type": "execute_result"
    }
   ],
   "source": [
    "t_mse = ((np.array(mean_pred) - np.array(gt))**2).mean(axis=None)\n",
    "t_mse"
   ]
  },
  {
   "cell_type": "code",
   "execution_count": 89,
   "metadata": {
    "colab": {
     "base_uri": "https://localhost:8080/",
     "height": 35
    },
    "colab_type": "code",
    "id": "9b0uUNYzFRzy",
    "outputId": "71af20c9-1e7b-4560-b82c-54971c383b73"
   },
   "outputs": [
    {
     "data": {
      "text/plain": [
       "38584"
      ]
     },
     "execution_count": 89,
     "metadata": {
      "tags": []
     },
     "output_type": "execute_result"
    }
   ],
   "source": [
    "c = 0\n",
    "for i in range(len(mean_pred)):\n",
    "    if mean_pred[i] == gt[i]:\n",
    "        c += 1\n",
    "c"
   ]
  },
  {
   "cell_type": "code",
   "execution_count": 0,
   "metadata": {
    "colab": {},
    "colab_type": "code",
    "id": "l6NY7kixSScA"
   },
   "outputs": [],
   "source": [
    "d = {}\n",
    "\n",
    "for val in mean_pred:\n",
    "    if val in d:\n",
    "        d[val] += 1\n",
    "    else:\n",
    "        d[val] = 1"
   ]
  },
  {
   "cell_type": "code",
   "execution_count": 91,
   "metadata": {
    "colab": {
     "base_uri": "https://localhost:8080/",
     "height": 35
    },
    "colab_type": "code",
    "id": "3V4GY1rJWue1",
    "outputId": "0b82e8f5-8489-4ddf-8e0f-2541c95a36f3"
   },
   "outputs": [
    {
     "data": {
      "text/plain": [
       "{1: 392, 2.0: 1709, 3.0: 35945, 4.0: 57898, 5.0: 4056}"
      ]
     },
     "execution_count": 91,
     "metadata": {
      "tags": []
     },
     "output_type": "execute_result"
    }
   ],
   "source": [
    "d"
   ]
  },
  {
   "cell_type": "code",
   "execution_count": 0,
   "metadata": {
    "colab": {},
    "colab_type": "code",
    "id": "MYrzT-eRFRwY"
   },
   "outputs": [],
   "source": [
    "gtd = {}\n",
    "\n",
    "for val in gt:\n",
    "    if val in gtd:\n",
    "        gtd[val] += 1\n",
    "    else:\n",
    "        gtd[val] = 1"
   ]
  },
  {
   "cell_type": "code",
   "execution_count": 93,
   "metadata": {
    "colab": {
     "base_uri": "https://localhost:8080/",
     "height": 35
    },
    "colab_type": "code",
    "id": "ivGHQ3wdFRvF",
    "outputId": "bcb1dda6-422a-463b-cb30-da44e155b1eb"
   },
   "outputs": [
    {
     "data": {
      "text/plain": [
       "{1: 4637, 2: 9948, 3: 28202, 4: 33496, 5: 23717}"
      ]
     },
     "execution_count": 93,
     "metadata": {
      "tags": []
     },
     "output_type": "execute_result"
    }
   ],
   "source": [
    "gtd"
   ]
  },
  {
   "cell_type": "code",
   "execution_count": 0,
   "metadata": {
    "colab": {
     "base_uri": "https://localhost:8080/",
     "height": 280
    },
    "colab_type": "code",
    "id": "f_JQvucoN-1I",
    "outputId": "f60ca252-9ce5-48c2-f57c-f60573ae9ed8"
   },
   "outputs": [
    {
     "name": "stdout",
     "output_type": "stream",
     "text": [
      "Collecting scikit-surprise\n",
      "\u001b[?25l  Downloading https://files.pythonhosted.org/packages/f5/da/b5700d96495fb4f092be497f02492768a3d96a3f4fa2ae7dea46d4081cfa/scikit-surprise-1.1.0.tar.gz (6.4MB)\n",
      "\u001b[K     |████████████████████████████████| 6.5MB 2.7MB/s \n",
      "\u001b[?25hRequirement already satisfied: joblib>=0.11 in /usr/local/lib/python3.6/dist-packages (from scikit-surprise) (0.14.1)\n",
      "Requirement already satisfied: numpy>=1.11.2 in /usr/local/lib/python3.6/dist-packages (from scikit-surprise) (1.18.2)\n",
      "Requirement already satisfied: scipy>=1.0.0 in /usr/local/lib/python3.6/dist-packages (from scikit-surprise) (1.4.1)\n",
      "Requirement already satisfied: six>=1.10.0 in /usr/local/lib/python3.6/dist-packages (from scikit-surprise) (1.12.0)\n",
      "Building wheels for collected packages: scikit-surprise\n",
      "  Building wheel for scikit-surprise (setup.py) ... \u001b[?25l\u001b[?25hdone\n",
      "  Created wheel for scikit-surprise: filename=scikit_surprise-1.1.0-cp36-cp36m-linux_x86_64.whl size=1678575 sha256=22055ffacc3c33a1d0361bfb4fa0074160c261a2f8a100d81d2ac19390d60f17\n",
      "  Stored in directory: /root/.cache/pip/wheels/cc/fa/8c/16c93fccce688ae1bde7d979ff102f7bee980d9cfeb8641bcf\n",
      "Successfully built scikit-surprise\n",
      "Installing collected packages: scikit-surprise\n",
      "Successfully installed scikit-surprise-1.1.0\n"
     ]
    }
   ],
   "source": [
    "# try how it works on recommender systems packages\n",
    "\n",
    "!pip install scikit-surprise"
   ]
  },
  {
   "cell_type": "code",
   "execution_count": 0,
   "metadata": {
    "colab": {},
    "colab_type": "code",
    "id": "AMYxETvzxL4l"
   },
   "outputs": [],
   "source": [
    "from surprise import SVD\n",
    "from surprise import Dataset\n",
    "from surprise.model_selection import cross_validate\n",
    "from surprise import reader"
   ]
  },
  {
   "cell_type": "code",
   "execution_count": 0,
   "metadata": {
    "colab": {
     "base_uri": "https://localhost:8080/",
     "height": 110
    },
    "colab_type": "code",
    "id": "quLxLshWwezq",
    "outputId": "99852295-0a33-4be9-b0d6-bd0aefab73c7"
   },
   "outputs": [
    {
     "data": {
      "text/html": [
       "<div>\n",
       "<style scoped>\n",
       "    .dataframe tbody tr th:only-of-type {\n",
       "        vertical-align: middle;\n",
       "    }\n",
       "\n",
       "    .dataframe tbody tr th {\n",
       "        vertical-align: top;\n",
       "    }\n",
       "\n",
       "    .dataframe thead th {\n",
       "        text-align: right;\n",
       "    }\n",
       "</style>\n",
       "<table border=\"1\" class=\"dataframe\">\n",
       "  <thead>\n",
       "    <tr style=\"text-align: right;\">\n",
       "      <th></th>\n",
       "      <th>customer-id</th>\n",
       "      <th>movie-id</th>\n",
       "      <th>rating</th>\n",
       "    </tr>\n",
       "  </thead>\n",
       "  <tbody>\n",
       "    <tr>\n",
       "      <th>0</th>\n",
       "      <td>24294</td>\n",
       "      <td>1262</td>\n",
       "      <td>4</td>\n",
       "    </tr>\n",
       "    <tr>\n",
       "      <th>1</th>\n",
       "      <td>18187</td>\n",
       "      <td>1810</td>\n",
       "      <td>3</td>\n",
       "    </tr>\n",
       "  </tbody>\n",
       "</table>\n",
       "</div>"
      ],
      "text/plain": [
       "   customer-id  movie-id  rating\n",
       "0        24294      1262       4\n",
       "1        18187      1810       3"
      ]
     },
     "execution_count": 12,
     "metadata": {
      "tags": []
     },
     "output_type": "execute_result"
    }
   ],
   "source": [
    "temp_df = raw_df[['customer-id', 'movie-id', 'rating']]\n",
    "temp_df.head(2)"
   ]
  },
  {
   "cell_type": "code",
   "execution_count": 0,
   "metadata": {
    "colab": {},
    "colab_type": "code",
    "id": "30p65GCHxIkA"
   },
   "outputs": [],
   "source": [
    "rdr = reader.Reader(rating_scale=(1, 5))"
   ]
  },
  {
   "cell_type": "code",
   "execution_count": 0,
   "metadata": {
    "colab": {},
    "colab_type": "code",
    "id": "-JpemF2Btzsb"
   },
   "outputs": [],
   "source": [
    "# Load the movielens-100k dataset (download it if needed).\n",
    "# data = Dataset.load_builtin('ml-100k')\n",
    "\n",
    "data = Dataset.load_from_df(temp_df, rdr)"
   ]
  },
  {
   "cell_type": "code",
   "execution_count": 0,
   "metadata": {
    "colab": {
     "base_uri": "https://localhost:8080/",
     "height": 347
    },
    "colab_type": "code",
    "id": "4stptZr-x7Zw",
    "outputId": "bba38b38-d03a-4ef4-d292-9e93ad172df3"
   },
   "outputs": [
    {
     "name": "stdout",
     "output_type": "stream",
     "text": [
      "Evaluating RMSE, MAE of algorithm SVD on 5 split(s).\n",
      "\n",
      "                  Fold 1  Fold 2  Fold 3  Fold 4  Fold 5  Mean    Std     \n",
      "RMSE (testset)    0.8997  0.8982  0.8978  0.8987  0.8985  0.8986  0.0006  \n",
      "MAE (testset)     0.6994  0.6984  0.6988  0.6995  0.6988  0.6990  0.0004  \n",
      "Fit time          44.10   47.32   47.31   47.38   47.23   46.67   1.29    \n",
      "Test time         2.09    2.04    2.35    1.82    2.02    2.06    0.17    \n"
     ]
    },
    {
     "data": {
      "text/plain": [
       "{'fit_time': (44.0955810546875,\n",
       "  47.32036805152893,\n",
       "  47.30655908584595,\n",
       "  47.384554862976074,\n",
       "  47.22919726371765),\n",
       " 'test_mae': array([0.69941899, 0.69843316, 0.6987851 , 0.6994929 , 0.69879845]),\n",
       " 'test_rmse': array([0.89966515, 0.89817749, 0.89779095, 0.89871426, 0.89852078]),\n",
       " 'test_time': (2.086087465286255,\n",
       "  2.0378036499023438,\n",
       "  2.3491108417510986,\n",
       "  1.8214874267578125,\n",
       "  2.0248587131500244)}"
      ]
     },
     "execution_count": 18,
     "metadata": {
      "tags": []
     },
     "output_type": "execute_result"
    }
   ],
   "source": [
    "# Use the famous SVD algorithm.\n",
    "algo = SVD()\n",
    "\n",
    "# Run 5-fold cross-validation and print results.\n",
    "cross_validate(algo, data, measures=['RMSE', 'MAE'], cv=5, verbose=True)"
   ]
  },
  {
   "cell_type": "code",
   "execution_count": 0,
   "metadata": {
    "colab": {
     "base_uri": "https://localhost:8080/",
     "height": 35
    },
    "colab_type": "code",
    "id": "s2p7sAfwt7Kv",
    "outputId": "78c5b85f-7475-4028-a536-8be759acf5e4"
   },
   "outputs": [
    {
     "data": {
      "text/plain": [
       "0.8985737260000001"
      ]
     },
     "execution_count": 19,
     "metadata": {
      "tags": []
     },
     "output_type": "execute_result"
    }
   ],
   "source": [
    "np.mean(np.array([0.89966515, 0.89817749, 0.89779095, 0.89871426, 0.89852078]))"
   ]
  },
  {
   "cell_type": "code",
   "execution_count": 0,
   "metadata": {
    "colab": {},
    "colab_type": "code",
    "id": "tnkc_tR5uIkj"
   },
   "outputs": [],
   "source": []
  }
 ],
 "metadata": {
  "colab": {
   "machine_shape": "hm",
   "name": "matrix-completion.ipynb",
   "provenance": []
  },
  "kernelspec": {
   "display_name": "Python 3",
   "language": "python",
   "name": "python3"
  },
  "language_info": {
   "codemirror_mode": {
    "name": "ipython",
    "version": 3
   },
   "file_extension": ".py",
   "mimetype": "text/x-python",
   "name": "python",
   "nbconvert_exporter": "python",
   "pygments_lexer": "ipython3",
   "version": "3.6.9"
  }
 },
 "nbformat": 4,
 "nbformat_minor": 1
}
